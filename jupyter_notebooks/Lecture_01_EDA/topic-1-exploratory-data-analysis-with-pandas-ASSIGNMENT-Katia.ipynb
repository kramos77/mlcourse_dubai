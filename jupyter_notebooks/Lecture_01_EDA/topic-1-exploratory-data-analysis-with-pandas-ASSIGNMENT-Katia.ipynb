{
 "cells": [
  {
   "cell_type": "markdown",
   "metadata": {},
   "source": [
    "<center>\n",
    "<img src=\"../../img/ods_stickers.jpg\">\n",
    "    \n",
    "## [mlcourse.ai](https://mlcourse.ai) - Open Machine Learning Course\n",
    "\n",
    "Author: [Yury Kashnitsky](https://www.linkedin.com/in/festline/). Translated and edited by [Sergey Isaev](https://www.linkedin.com/in/isvforall/), [Artem Trunov](https://www.linkedin.com/in/datamove/), [Anastasia Manokhina](https://www.linkedin.com/in/anastasiamanokhina/), and [Yuanyuan Pao](https://www.linkedin.com/in/yuanyuanpao/). All content is distributed under the [Creative Commons CC BY-NC-SA 4.0](https://creativecommons.org/licenses/by-nc-sa/4.0/) license."
   ]
  },
  {
   "cell_type": "markdown",
   "metadata": {},
   "source": [
    "**In this task you should use Pandas to answer a few questions about the [Adult](https://archive.ics.uci.edu/ml/datasets/Adult) dataset. (You don't have to download the data – it's already  in the repository)**"
   ]
  },
  {
   "cell_type": "markdown",
   "metadata": {},
   "source": [
    "Unique values of all features (for more information, please see the links above):\n",
    "- `age`: continuous.\n",
    "- `workclass`: Private, Self-emp-not-inc, Self-emp-inc, Federal-gov, Local-gov, State-gov, Without-pay, Never-worked.\n",
    "- `fnlwgt`: continuous.\n",
    "- `education`: Bachelors, Some-college, 11th, HS-grad, Prof-school, Assoc-acdm, Assoc-voc, 9th, 7th-8th, 12th, Masters, 1st-4th, 10th, Doctorate, 5th-6th, Preschool.\n",
    "- `education-num`: continuous.\n",
    "- `marital-status`: Married-civ-spouse, Divorced, Never-married, Separated, Widowed, Married-spouse-absent, Married-AF-spouse.\n",
    "- `occupation`: Tech-support, Craft-repair, Other-service, Sales, Exec-managerial, Prof-specialty, Handlers-cleaners, Machine-op-inspct, Adm-clerical, Farming-fishing, Transport-moving, Priv-house-serv, Protective-serv, Armed-Forces.\n",
    "- `relationship`: Wife, Own-child, Husband, Not-in-family, Other-relative, Unmarried.\n",
    "- `race`: White, Asian-Pac-Islander, Amer-Indian-Eskimo, Other, Black.\n",
    "- `sex`: Female, Male.\n",
    "- `capital-gain`: continuous.\n",
    "- `capital-loss`: continuous.\n",
    "- `hours-per-week`: continuous.\n",
    "- `native-country`: United-States, Cambodia, England, Puerto-Rico, Canada, Germany, Outlying-US(Guam-USVI-etc), India, Japan, Greece, South, China, Cuba, Iran, Honduras, Philippines, Italy, Poland, Jamaica, Vietnam, Mexico, Portugal, Ireland, France, Dominican-Republic, Laos, Ecuador, Taiwan, Haiti, Columbia, Hungary, Guatemala, Nicaragua, Scotland, Thailand, Yugoslavia, El-Salvador, Trinadad&Tobago, Peru, Hong, Holand-Netherlands.   \n",
    "- `salary`: >50K,<=50K"
   ]
  },
  {
   "cell_type": "code",
   "execution_count": 1,
   "metadata": {
    "ExecuteTime": {
     "end_time": "2020-02-26T19:15:19.285921Z",
     "start_time": "2020-02-26T19:15:18.073149Z"
    }
   },
   "outputs": [],
   "source": [
    "import numpy as np\n",
    "import pandas as pd\n",
    "pd.set_option('display.max.columns', 100)\n",
    "# to draw pictures in jupyter notebook\n",
    "%matplotlib inline \n",
    "import matplotlib.pyplot as plt\n",
    "import seaborn as sns\n",
    "# we don't like warnings\n",
    "# you can comment the following 2 lines if you'd like to\n",
    "#import warnings\n",
    "#warnings.filterwarnings('ignore')"
   ]
  },
  {
   "cell_type": "code",
   "execution_count": 2,
   "metadata": {},
   "outputs": [
    {
     "data": {
      "text/html": [
       "<div>\n",
       "<style scoped>\n",
       "    .dataframe tbody tr th:only-of-type {\n",
       "        vertical-align: middle;\n",
       "    }\n",
       "\n",
       "    .dataframe tbody tr th {\n",
       "        vertical-align: top;\n",
       "    }\n",
       "\n",
       "    .dataframe thead th {\n",
       "        text-align: right;\n",
       "    }\n",
       "</style>\n",
       "<table border=\"1\" class=\"dataframe\">\n",
       "  <thead>\n",
       "    <tr style=\"text-align: right;\">\n",
       "      <th></th>\n",
       "      <th>age</th>\n",
       "      <th>workclass</th>\n",
       "      <th>fnlwgt</th>\n",
       "      <th>education</th>\n",
       "      <th>education-num</th>\n",
       "      <th>marital-status</th>\n",
       "      <th>occupation</th>\n",
       "      <th>relationship</th>\n",
       "      <th>race</th>\n",
       "      <th>sex</th>\n",
       "      <th>capital-gain</th>\n",
       "      <th>capital-loss</th>\n",
       "      <th>hours-per-week</th>\n",
       "      <th>native-country</th>\n",
       "      <th>salary</th>\n",
       "    </tr>\n",
       "  </thead>\n",
       "  <tbody>\n",
       "    <tr>\n",
       "      <th>0</th>\n",
       "      <td>39</td>\n",
       "      <td>State-gov</td>\n",
       "      <td>77516</td>\n",
       "      <td>Bachelors</td>\n",
       "      <td>13</td>\n",
       "      <td>Never-married</td>\n",
       "      <td>Adm-clerical</td>\n",
       "      <td>Not-in-family</td>\n",
       "      <td>White</td>\n",
       "      <td>Male</td>\n",
       "      <td>2174</td>\n",
       "      <td>0</td>\n",
       "      <td>40</td>\n",
       "      <td>United-States</td>\n",
       "      <td>&lt;=50K</td>\n",
       "    </tr>\n",
       "    <tr>\n",
       "      <th>1</th>\n",
       "      <td>50</td>\n",
       "      <td>Self-emp-not-inc</td>\n",
       "      <td>83311</td>\n",
       "      <td>Bachelors</td>\n",
       "      <td>13</td>\n",
       "      <td>Married-civ-spouse</td>\n",
       "      <td>Exec-managerial</td>\n",
       "      <td>Husband</td>\n",
       "      <td>White</td>\n",
       "      <td>Male</td>\n",
       "      <td>0</td>\n",
       "      <td>0</td>\n",
       "      <td>13</td>\n",
       "      <td>United-States</td>\n",
       "      <td>&lt;=50K</td>\n",
       "    </tr>\n",
       "    <tr>\n",
       "      <th>2</th>\n",
       "      <td>38</td>\n",
       "      <td>Private</td>\n",
       "      <td>215646</td>\n",
       "      <td>HS-grad</td>\n",
       "      <td>9</td>\n",
       "      <td>Divorced</td>\n",
       "      <td>Handlers-cleaners</td>\n",
       "      <td>Not-in-family</td>\n",
       "      <td>White</td>\n",
       "      <td>Male</td>\n",
       "      <td>0</td>\n",
       "      <td>0</td>\n",
       "      <td>40</td>\n",
       "      <td>United-States</td>\n",
       "      <td>&lt;=50K</td>\n",
       "    </tr>\n",
       "    <tr>\n",
       "      <th>3</th>\n",
       "      <td>53</td>\n",
       "      <td>Private</td>\n",
       "      <td>234721</td>\n",
       "      <td>11th</td>\n",
       "      <td>7</td>\n",
       "      <td>Married-civ-spouse</td>\n",
       "      <td>Handlers-cleaners</td>\n",
       "      <td>Husband</td>\n",
       "      <td>Black</td>\n",
       "      <td>Male</td>\n",
       "      <td>0</td>\n",
       "      <td>0</td>\n",
       "      <td>40</td>\n",
       "      <td>United-States</td>\n",
       "      <td>&lt;=50K</td>\n",
       "    </tr>\n",
       "    <tr>\n",
       "      <th>4</th>\n",
       "      <td>28</td>\n",
       "      <td>Private</td>\n",
       "      <td>338409</td>\n",
       "      <td>Bachelors</td>\n",
       "      <td>13</td>\n",
       "      <td>Married-civ-spouse</td>\n",
       "      <td>Prof-specialty</td>\n",
       "      <td>Wife</td>\n",
       "      <td>Black</td>\n",
       "      <td>Female</td>\n",
       "      <td>0</td>\n",
       "      <td>0</td>\n",
       "      <td>40</td>\n",
       "      <td>Cuba</td>\n",
       "      <td>&lt;=50K</td>\n",
       "    </tr>\n",
       "  </tbody>\n",
       "</table>\n",
       "</div>"
      ],
      "text/plain": [
       "   age         workclass  fnlwgt  education  education-num  \\\n",
       "0   39         State-gov   77516  Bachelors             13   \n",
       "1   50  Self-emp-not-inc   83311  Bachelors             13   \n",
       "2   38           Private  215646    HS-grad              9   \n",
       "3   53           Private  234721       11th              7   \n",
       "4   28           Private  338409  Bachelors             13   \n",
       "\n",
       "       marital-status         occupation   relationship   race     sex  \\\n",
       "0       Never-married       Adm-clerical  Not-in-family  White    Male   \n",
       "1  Married-civ-spouse    Exec-managerial        Husband  White    Male   \n",
       "2            Divorced  Handlers-cleaners  Not-in-family  White    Male   \n",
       "3  Married-civ-spouse  Handlers-cleaners        Husband  Black    Male   \n",
       "4  Married-civ-spouse     Prof-specialty           Wife  Black  Female   \n",
       "\n",
       "   capital-gain  capital-loss  hours-per-week native-country salary  \n",
       "0          2174             0              40  United-States  <=50K  \n",
       "1             0             0              13  United-States  <=50K  \n",
       "2             0             0              40  United-States  <=50K  \n",
       "3             0             0              40  United-States  <=50K  \n",
       "4             0             0              40           Cuba  <=50K  "
      ]
     },
     "execution_count": 2,
     "metadata": {},
     "output_type": "execute_result"
    }
   ],
   "source": [
    "data = pd.read_csv('../../data/adult.data.csv')\n",
    "data.head()"
   ]
  },
  {
   "cell_type": "markdown",
   "metadata": {},
   "source": [
    "**1. How many men and women (*sex* feature) are represented in this dataset?** "
   ]
  },
  {
   "cell_type": "code",
   "execution_count": 3,
   "metadata": {},
   "outputs": [
    {
     "name": "stdout",
     "output_type": "stream",
     "text": [
      "This dataset have 10771 Female(s).\n",
      "This dataset have 21790 Male(s).\n"
     ]
    },
    {
     "data": {
      "text/plain": [
       "Male      21790\n",
       "Female    10771\n",
       "Name: sex, dtype: int64"
      ]
     },
     "execution_count": 3,
     "metadata": {},
     "output_type": "execute_result"
    }
   ],
   "source": [
    "for (gender ,sub_dataframe) in data.groupby('sex'):\n",
    "    print('This dataset have {} {}(s).'.format(sub_dataframe['sex'].count(),gender))\n",
    "\n",
    "data.sex.value_counts()\n"
   ]
  },
  {
   "cell_type": "markdown",
   "metadata": {},
   "source": [
    "**2. What is the average age (*age* feature) of women?**"
   ]
  },
  {
   "cell_type": "code",
   "execution_count": 4,
   "metadata": {
    "scrolled": true
   },
   "outputs": [
    {
     "name": "stdout",
     "output_type": "stream",
     "text": [
      "The average age of women is 37 years.\n"
     ]
    }
   ],
   "source": [
    "a=data[data.sex == 'Female']['age'].mean()\n",
    "print ('The average age of women is {:.0f} years.'.format(a))"
   ]
  },
  {
   "cell_type": "markdown",
   "metadata": {},
   "source": [
    "**3. What is the percentage of German citizens (*native-country* feature)?**"
   ]
  },
  {
   "cell_type": "code",
   "execution_count": 5,
   "metadata": {},
   "outputs": [
    {
     "name": "stdout",
     "output_type": "stream",
     "text": [
      "The percentage of German citizens is 0.4%.\n"
     ]
    }
   ],
   "source": [
    "a = data['native-country'].value_counts(normalize=True)['Germany']\n",
    "print ('The percentage of German citizens is {:.1%}.'.format(a))\n"
   ]
  },
  {
   "cell_type": "markdown",
   "metadata": {},
   "source": [
    "**4-5. What are the mean and standard deviation of age for those who earn more than 50K per year (*salary* feature) and those who earn less than 50K per year? **"
   ]
  },
  {
   "cell_type": "code",
   "execution_count": 6,
   "metadata": {},
   "outputs": [
    {
     "name": "stdout",
     "output_type": "stream",
     "text": [
      "The mean and standard deviation of age for who earn <=50K are 36.78 and 14.02.\n",
      "The mean and standard deviation of age for who earn >50K are 44.25 and 10.52.\n"
     ]
    }
   ],
   "source": [
    "#data.salary.value_counts()\n",
    "\n",
    "for (age_per_salary ,sub_dataframe) in data.groupby('salary'):\n",
    "    print('The mean and standard deviation of age for who earn {} are {:.2f} and {:.2f}.'.format(age_per_salary , \n",
    "                                                                                  sub_dataframe['age'].mean() , \n",
    "                                                                                  sub_dataframe['age'].std()))"
   ]
  },
  {
   "cell_type": "markdown",
   "metadata": {},
   "source": [
    "6. Is it true that people who earn more than 50K have at least high school education? (education – Bachelors, Prof-school, Assoc-acdm, Assoc-voc, Masters or Doctorate feature)"
   ]
  },
  {
   "cell_type": "code",
   "execution_count": 7,
   "metadata": {},
   "outputs": [
    {
     "name": "stdout",
     "output_type": "stream",
     "text": [
      "\u001b[1mIs it true that people who earn more than 50K have at least high school education?\u001b[0m False\n",
      "\n",
      "\n",
      "\u001b[1mSee the data below:\u001b[0m\n",
      "\n",
      "\n",
      "       age     workclass  fnlwgt education  education-num      marital-status  \\\n",
      "183     40       Private  286370   7th-8th              4  Married-civ-spouse   \n",
      "214     54  Self-emp-inc  125417   7th-8th              4  Married-civ-spouse   \n",
      "415     35       Private   92440      12th              8            Divorced   \n",
      "588     52       Private   25826      10th              6  Married-civ-spouse   \n",
      "592     60       Private   39352   7th-8th              4       Never-married   \n",
      "...    ...           ...     ...       ...            ...                 ...   \n",
      "31998   52             ?   89951      12th              8  Married-civ-spouse   \n",
      "32084   48       Private  105808       9th              5             Widowed   \n",
      "32138   50  Self-emp-inc  121441      11th              7       Never-married   \n",
      "32179   58       Private  250206      10th              6  Married-civ-spouse   \n",
      "32214   22     Local-gov  164775   5th-6th              3       Never-married   \n",
      "\n",
      "              occupation    relationship   race     sex  capital-gain  \\\n",
      "183    Machine-op-inspct         Husband  White    Male             0   \n",
      "214    Machine-op-inspct         Husband  White    Male             0   \n",
      "415         Craft-repair   Not-in-family  White    Male             0   \n",
      "588         Craft-repair         Husband  White    Male             0   \n",
      "592     Transport-moving   Not-in-family  White    Male             0   \n",
      "...                  ...             ...    ...     ...           ...   \n",
      "31998                  ?            Wife  Black  Female             0   \n",
      "32084   Transport-moving       Unmarried  White    Male             0   \n",
      "32138    Exec-managerial  Other-relative  White    Male             0   \n",
      "32179       Craft-repair         Husband  White    Male          5178   \n",
      "32214  Handlers-cleaners  Other-relative  White    Male             0   \n",
      "\n",
      "       capital-loss  hours-per-week native-country salary  \n",
      "183               0              40         Mexico   >50K  \n",
      "214               0              40  United-States   >50K  \n",
      "415               0              50  United-States   >50K  \n",
      "588            1887              47  United-States   >50K  \n",
      "592               0              48  United-States   >50K  \n",
      "...             ...             ...            ...    ...  \n",
      "31998             0              40  United-States   >50K  \n",
      "32084             0              40  United-States   >50K  \n",
      "32138          2444              40  United-States   >50K  \n",
      "32179             0              40  United-States   >50K  \n",
      "32214             0              40      Guatemala   >50K  \n",
      "\n",
      "[244 rows x 15 columns]\n"
     ]
    }
   ],
   "source": [
    "HighSlr_HighEdu = data[(data['salary'] == '>50K')&(data['education-num'] < 9)]\n",
    "result = 'True' if HighSlr_HighEdu.empty else 'False'\n",
    "print( '\\033[1m'+'Is it true that people who earn more than 50K have at least high school education?'+'\\033[0m', result)\n",
    "print('\\n')\n",
    "print('\\033[1m'+'See the data below:'+'\\033[0m')\n",
    "print('\\n')\n",
    "print(HighSlr_HighEdu)"
   ]
  },
  {
   "cell_type": "markdown",
   "metadata": {},
   "source": [
    "**7. Display age statistics for each race (*race* feature) and each gender (*sex* feature). Use *groupby()* and *describe()*. Find the maximum age of men of *Amer-Indian-Eskimo* race.**"
   ]
  },
  {
   "cell_type": "code",
   "execution_count": 8,
   "metadata": {},
   "outputs": [
    {
     "name": "stdout",
     "output_type": "stream",
     "text": [
      "\u001b[1m###Please see below the age statistics for each race and each gender:\n",
      "\u001b[0m\n",
      "                             count       mean        std   min   25%   50%  \\\n",
      "race               sex                                                       \n",
      "Amer-Indian-Eskimo Female    119.0  37.117647  13.114991  17.0  27.0  36.0   \n",
      "                   Male      192.0  37.208333  12.049563  17.0  28.0  35.0   \n",
      "Asian-Pac-Islander Female    346.0  35.089595  12.300845  17.0  25.0  33.0   \n",
      "                   Male      693.0  39.073593  12.883944  18.0  29.0  37.0   \n",
      "Black              Female   1555.0  37.854019  12.637197  17.0  28.0  37.0   \n",
      "                   Male     1569.0  37.682600  12.882612  17.0  27.0  36.0   \n",
      "Other              Female    109.0  31.678899  11.631599  17.0  23.0  29.0   \n",
      "                   Male      162.0  34.654321  11.355531  17.0  26.0  32.0   \n",
      "White              Female   8642.0  36.811618  14.329093  17.0  25.0  35.0   \n",
      "                   Male    19174.0  39.652498  13.436029  17.0  29.0  38.0   \n",
      "\n",
      "                             75%   max  \n",
      "race               sex                  \n",
      "Amer-Indian-Eskimo Female  46.00  80.0  \n",
      "                   Male    45.00  82.0  \n",
      "Asian-Pac-Islander Female  43.75  75.0  \n",
      "                   Male    46.00  90.0  \n",
      "Black              Female  46.00  90.0  \n",
      "                   Male    46.00  90.0  \n",
      "Other              Female  39.00  74.0  \n",
      "                   Male    42.00  77.0  \n",
      "White              Female  46.00  90.0  \n",
      "                   Male    49.00  90.0  \n",
      "\n",
      "\n",
      "\u001b[1m###Please see below the max age statistics for each race and each gender:\n",
      "\u001b[0m\n",
      "race                sex   \n",
      "Amer-Indian-Eskimo  Female    80\n",
      "                    Male      82\n",
      "Asian-Pac-Islander  Female    75\n",
      "                    Male      90\n",
      "Black               Female    90\n",
      "                    Male      90\n",
      "Other               Female    74\n",
      "                    Male      77\n",
      "White               Female    90\n",
      "                    Male      90\n",
      "Name: age, dtype: int64\n",
      "\n",
      "\n",
      "\u001b[1mThe maximum age of men of Amer-Indian-Eskimo race is\u001b[0m: 82\n"
     ]
    }
   ],
   "source": [
    "print('\\033[1m'+'###Please see below the age statistics for each race and each gender:\\n'+'\\033[0m')\n",
    "a= data.groupby(['race','sex'])['age'].describe()\n",
    "print(a)\n",
    "print('\\n')\n",
    "\n",
    "print('\\033[1m'+'###Please see below the max age statistics for each race and each gender:\\n'+'\\033[0m')\n",
    "b=data.groupby(['race','sex'])['age'].max()\n",
    "print(b)\n",
    "print('\\n')\n",
    "\n",
    "c = data.loc[data['race'] == 'Amer-Indian-Eskimo', 'age'].max()\n",
    "print('\\033[1m'+'The maximum age of men of Amer-Indian-Eskimo race is'+'\\033[0m'': {}'.format(c))"
   ]
  },
  {
   "cell_type": "markdown",
   "metadata": {},
   "source": [
    "**8. Among whom is the proportion of those who earn a lot (>50K) greater: married or single men (*marital-status* feature)? Consider as married those who have a *marital-status* starting with *Married* (Married-civ-spouse, Married-spouse-absent or Married-AF-spouse), the rest are considered bachelors.**"
   ]
  },
  {
   "cell_type": "code",
   "execution_count": 250,
   "metadata": {},
   "outputs": [
    {
     "name": "stdout",
     "output_type": "stream",
     "text": [
      "Married men who earn >50K are: 89.5% and Bachelor are 10.5%\n"
     ]
    }
   ],
   "source": [
    "def small_marital_status (marital):\n",
    "    if marital.startswith('Married'):\n",
    "        return 'Married' \n",
    "    else:\n",
    "        return 'Bachelor' \n",
    "\n",
    "data['marital-status-small'] = data['marital-status'].apply(small_marital_status)\n",
    "\n",
    "a = data[(data['sex'] == 'Male')&(data['salary'] == '>50K')]['marital-status-small'].value_counts(normalize = True)\n",
    "\n",
    "print('Married men who earn >50K are: {:.1%} and Bachelor are {:.1%}'.format(a.loc['Married'], a.loc['Bachelor']))\n"
   ]
  },
  {
   "cell_type": "markdown",
   "metadata": {},
   "source": [
    "**9. What is the maximum number of hours a person works per week (*hours-per-week* feature)? How many people work such a number of hours, and what is the percentage of those who earn a lot (>50K) among them?**"
   ]
  },
  {
   "cell_type": "code",
   "execution_count": 175,
   "metadata": {},
   "outputs": [
    {
     "name": "stdout",
     "output_type": "stream",
     "text": [
      "\u001b[1mThe maximum number of hours a person works per week is:\u001b[0m99. \n",
      "\u001b[1mHow many people work 99 hours:\u001b[0m85. \n",
      "\u001b[1mWhat is the percentage of those who earn (>50K) and work the maximum number of hours?\u001b[0m0.32%. \n"
     ]
    }
   ],
   "source": [
    "print('\\033[1m''The maximum number of hours a person works per week is:''\\033[0m' '{}. '.format(data['hours-per-week'].max()))\n",
    "\n",
    "max_hours = data['hours-per-week'].max()\n",
    "b = data[data['hours-per-week'] == max_Hours]['age'].count()\n",
    "print('\\033[1m''How many people work {} hours:''\\033[0m' '{}. '.format(max_hours,b))\n",
    "\n",
    "\n",
    "Rich = data[(data['salary'] == '>50K')]['age'].count()\n",
    "Rich_Hard_Work = data[(data['hours-per-week'] == max_Hours) & (data['salary'] == '>50K')]['age'].count()\n",
    "\n",
    "\n",
    "print('\\033[1m''What is the percentage of those who earn (>50K) and work the maximum number of hours?''\\033[0m' \n",
    "                                                                                '{:.2f}%. '.format(\n",
    "                                                                                (Rich_Hard_Work/Rich)*100))"
   ]
  },
  {
   "cell_type": "markdown",
   "metadata": {},
   "source": [
    "**10. Count the average time of work (*hours-per-week*) for those who earn a little and a lot (*salary*) for each country (*native-country*). What will these be for Japan?**"
   ]
  },
  {
   "cell_type": "code",
   "execution_count": 257,
   "metadata": {
    "scrolled": true
   },
   "outputs": [
    {
     "name": "stdout",
     "output_type": "stream",
     "text": [
      "\u001b[1m###Please see below the average time of work for those who earn a little/lot per country:\n",
      "\u001b[0m\n",
      "                           hours-per-week           \n",
      "salary                              <=50K       >50K\n",
      "native-country                                      \n",
      "?                               40.164760  45.547945\n",
      "Cambodia                        41.416667  40.000000\n",
      "Canada                          37.914634  45.641026\n",
      "China                           37.381818  38.900000\n",
      "Columbia                        38.684211  50.000000\n",
      "Cuba                            37.985714  42.440000\n",
      "Dominican-Republic              42.338235  47.000000\n",
      "Ecuador                         38.041667  48.750000\n",
      "El-Salvador                     36.030928  45.000000\n",
      "England                         40.483333  44.533333\n",
      "France                          41.058824  50.750000\n",
      "Germany                         39.139785  44.977273\n",
      "Greece                          41.809524  50.625000\n",
      "Guatemala                       39.360656  36.666667\n",
      "Haiti                           36.325000  42.750000\n",
      "Holand-Netherlands              40.000000        NaN\n",
      "Honduras                        34.333333  60.000000\n",
      "Hong                            39.142857  45.000000\n",
      "Hungary                         31.300000  50.000000\n",
      "India                           38.233333  46.475000\n",
      "Iran                            41.440000  47.500000\n",
      "Ireland                         40.947368  48.000000\n",
      "Italy                           39.625000  45.400000\n",
      "Jamaica                         38.239437  41.100000\n",
      "Japan                           41.000000  47.958333\n",
      "Laos                            40.375000  40.000000\n",
      "Mexico                          40.003279  46.575758\n",
      "Nicaragua                       36.093750  37.500000\n",
      "Outlying-US(Guam-USVI-etc)      41.857143        NaN\n",
      "Peru                            35.068966  40.000000\n",
      "Philippines                     38.065693  43.032787\n",
      "Poland                          38.166667  39.000000\n",
      "Portugal                        41.939394  41.500000\n",
      "Puerto-Rico                     38.470588  39.416667\n",
      "Scotland                        39.444444  46.666667\n",
      "South                           40.156250  51.437500\n",
      "Taiwan                          33.774194  46.800000\n",
      "Thailand                        42.866667  58.333333\n",
      "Trinadad&Tobago                 37.058824  40.000000\n",
      "United-States                   38.799127  45.505369\n",
      "Vietnam                         37.193548  39.200000\n",
      "Yugoslavia                      41.600000  49.500000\n",
      "\u001b[1m### What will these be for Japan?\n",
      "\u001b[0m\n",
      "                salary\n",
      "hours-per-week  <=50K     41.000000\n",
      "                >50K      47.958333\n",
      "Name: Japan, dtype: float64\n"
     ]
    }
   ],
   "source": [
    "print('\\033[1m'+'###Please see below the average time of work for those who earn a little/lot per country:\\n'+'\\033[0m')\n",
    "sample = data.pivot_table(['hours-per-week'],['native-country'],['salary'], aggfunc = 'mean')\n",
    "print(sample)\n",
    "\n",
    "print('\\033[1m'+'### What will these be for Japan?\\n'+'\\033[0m')\n",
    "print(sample.loc['Japan'])"
   ]
  }
 ],
 "metadata": {
  "anaconda-cloud": {},
  "hide_input": false,
  "kernelspec": {
   "display_name": "Python 3",
   "language": "python",
   "name": "python3"
  },
  "language_info": {
   "codemirror_mode": {
    "name": "ipython",
    "version": 3
   },
   "file_extension": ".py",
   "mimetype": "text/x-python",
   "name": "python",
   "nbconvert_exporter": "python",
   "pygments_lexer": "ipython3",
   "version": "3.6.6"
  },
  "toc": {
   "base_numbering": 1,
   "nav_menu": {},
   "number_sections": true,
   "sideBar": true,
   "skip_h1_title": false,
   "title_cell": "Table of Contents",
   "title_sidebar": "Contents",
   "toc_cell": false,
   "toc_position": {},
   "toc_section_display": true,
   "toc_window_display": false
  },
  "varInspector": {
   "cols": {
    "lenName": 16,
    "lenType": 16,
    "lenVar": 40
   },
   "kernels_config": {
    "python": {
     "delete_cmd_postfix": "",
     "delete_cmd_prefix": "del ",
     "library": "var_list.py",
     "varRefreshCmd": "print(var_dic_list())"
    },
    "r": {
     "delete_cmd_postfix": ") ",
     "delete_cmd_prefix": "rm(",
     "library": "var_list.r",
     "varRefreshCmd": "cat(var_dic_list()) "
    }
   },
   "types_to_exclude": [
    "module",
    "function",
    "builtin_function_or_method",
    "instance",
    "_Feature"
   ],
   "window_display": false
  }
 },
 "nbformat": 4,
 "nbformat_minor": 1
}
